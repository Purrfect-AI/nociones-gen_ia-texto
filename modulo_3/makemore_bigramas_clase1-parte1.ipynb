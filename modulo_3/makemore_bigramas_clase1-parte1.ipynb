{
 "cells": [
  {
   "cell_type": "markdown",
   "id": "37f8b781-ca89-49fe-86c2-92fdb9e3be23",
   "metadata": {},
   "source": [
    "# Implementando makemore\n",
    "\n",
    "* Qué es un modelo de bigramas estadístico auto-regresivo y cómo implementamos uno?\n",
    "* Los bigramas son secuencias de dos carácteres, por ejemplo `ab` o `gh`."
   ]
  },
  {
   "cell_type": "markdown",
   "id": "bd7ab02f-921a-4843-a448-5da17aafd1a5",
   "metadata": {},
   "source": [
    "## Explorando el dataset"
   ]
  },
  {
   "cell_type": "code",
   "execution_count": null,
   "id": "bd42d185-8434-43d4-b58b-59cd263b40d0",
   "metadata": {},
   "outputs": [],
   "source": [
    "dataset = open('data/city_names_puny.txt', 'r').read().split('\\n')\n",
    "dataset # punycode\n",
    "puny = [x for x in dataset if 'xn--' in x]\n",
    "nopuny = [x for x in dataset if 'xn--' not in x]"
   ]
  },
  {
   "cell_type": "code",
   "execution_count": null,
   "id": "280147c2-2aa5-4d3e-96ba-8a8c87e0840b",
   "metadata": {},
   "outputs": [],
   "source": [
    "import idna\n",
    "\n",
    "# def utf8_to_punycode(text: str) -> str:\n",
    "#     \"\"\"Encodes a UTF-8 string to its Punycode representation.\"\"\"\n",
    "#     return idna.encode(text).decode('ascii')\n",
    "\n",
    "def punyencode(text: str) -> str:\n",
    "    \"\"\"Encodes a UTF-8 string to its Punycode representation, handling spaces by encoding each word separately.\"\"\"\n",
    "    \n",
    "    return \" \".join([idna.encode(word).decode('ascii') for word in text.split()])\n",
    "    \n",
    "def punydecode(punycode: str) -> str:\n",
    "    \"\"\"Decodes a Punycode string back to UTF-8.\"\"\"\n",
    "    #return idna.decode(punycode)\n",
    "    return \" \".join([idna.decode(word) for word in punycode.split()])\n",
    "\n",
    "def process_name(name):\n",
    "    name = name.lower()\n",
    "    for n in name.split():\n",
    "        if len(n) < 2:\n",
    "            return ''\n",
    "    try:\n",
    "        return punyencode(name)\n",
    "    except:\n",
    "        #print(f'Cant convert {name}')\n",
    "        return ''"
   ]
  },
  {
   "cell_type": "markdown",
   "id": "4855f7fc-0a87-4297-abf7-ba2c03ae27a5",
   "metadata": {},
   "source": [
    "## Generando bigramas"
   ]
  },
  {
   "cell_type": "code",
   "execution_count": null,
   "id": "8ce7ffa9-d150-4210-949a-d3e7e536cefc",
   "metadata": {},
   "outputs": [],
   "source": []
  },
  {
   "cell_type": "markdown",
   "id": "90d487c1-3415-48f6-a649-f6fd8274fa86",
   "metadata": {},
   "source": [
    "## Contando bigramas"
   ]
  },
  {
   "cell_type": "code",
   "execution_count": null,
   "id": "79f433f1-7f36-4748-abe4-dd46406ec318",
   "metadata": {},
   "outputs": [],
   "source": []
  },
  {
   "cell_type": "markdown",
   "id": "d9fc54a2-5941-4fee-a7a4-d685ed8e928b",
   "metadata": {},
   "source": [
    "## Usando una matriz para almacenar las ocurrencias"
   ]
  },
  {
   "cell_type": "code",
   "execution_count": null,
   "id": "1955f706-4a20-43d2-bab8-4e40b7fba9c3",
   "metadata": {},
   "outputs": [],
   "source": []
  },
  {
   "cell_type": "code",
   "execution_count": null,
   "id": "f1133a02-1549-4141-8211-5bbe4b905f9d",
   "metadata": {},
   "outputs": [],
   "source": [
    "import matplotlib.pyplot as plt\n",
    "#%matplotlib inline\n",
    "\n",
    "plt.figure(figsize=(16,16))\n",
    "plt.imshow(bigram_count, cmap='Blues')\n",
    "for i in range(len(charset)):\n",
    "    for j in range(len(charset)):\n",
    "        chars = itoc[i]+itoc[j]\n",
    "        plt.text(j, i, chars,ha='center', va='bottom', color='grey', fontsize=8)\n",
    "        plt.text(j, i, bigram_count[i,j],ha='center', va='top', color='grey', fontsize=8)\n",
    "plt.axis('off')"
   ]
  },
  {
   "cell_type": "code",
   "execution_count": null,
   "id": "a14ba760-1c48-4eb0-b1eb-cd84fd1edff4",
   "metadata": {},
   "outputs": [],
   "source": []
  },
  {
   "cell_type": "markdown",
   "id": "311c7730-76b0-4f63-80f6-dbcfe89dd2a5",
   "metadata": {},
   "source": [
    "## Convertir la matriz de cuentas en una matriz de probabilidades"
   ]
  },
  {
   "cell_type": "code",
   "execution_count": null,
   "id": "85a2562a-3d32-42eb-9374-b14bec8d6324",
   "metadata": {},
   "outputs": [],
   "source": []
  },
  {
   "cell_type": "markdown",
   "id": "f8334178-5239-485b-bcb6-37845f07779e",
   "metadata": {},
   "source": [
    "## La Negative Log Likelihood loss (NLL loss)"
   ]
  },
  {
   "cell_type": "code",
   "execution_count": null,
   "id": "e989cfae-c17b-48eb-91f6-0682d559f94a",
   "metadata": {},
   "outputs": [],
   "source": []
  },
  {
   "cell_type": "markdown",
   "id": "5f289860-6df4-46e9-9ae4-98fee903646c",
   "metadata": {},
   "source": [
    "## Model Smoothing"
   ]
  },
  {
   "cell_type": "code",
   "execution_count": null,
   "id": "5737a08e-d537-4891-9d29-d9d048d536b2",
   "metadata": {},
   "outputs": [],
   "source": []
  },
  {
   "cell_type": "markdown",
   "id": "0651ae8c-f97a-4f37-a0bd-2b7f0012ee74",
   "metadata": {},
   "source": [
    "## Sampleando del modelo"
   ]
  },
  {
   "cell_type": "code",
   "execution_count": null,
   "id": "341db221-7fe8-4793-ba65-58b1562044b3",
   "metadata": {},
   "outputs": [],
   "source": []
  },
  {
   "cell_type": "markdown",
   "id": "c2dc6cc1-e738-49ee-b834-3c51875aab10",
   "metadata": {},
   "source": [
    "## Conclusiones\n",
    "* En este módulo creamos un modelo de bigramas probabilistico autoregresivo.\n",
    "* El modelo cuenta las ocurrencias de los bigramas y luego calcula las distribuciones de probabilidad de un carácter dado el carácter anterior.\n",
    "* Toda la información está contenida en una matriz de probabilidades\n",
    "* Vimos como calcular que tan bueno o malo es el modelo respecto a nuestro universo de carácteres conocidos (charset) y a un modelo que elige carácteres al azar.\n",
    "* Esta métrica nos va a acompañar el resto del curso y vamos a volver sobre esto luego."
   ]
  },
  {
   "cell_type": "markdown",
   "id": "613d0d58-c8ec-497e-a5b3-8fc59e9b90a9",
   "metadata": {},
   "source": [
    "## Ejercicios\n",
    "* Generar un modelo de trigramas (intermedio).\n",
    "  * Pista: En lugar de una matriz, guardar las probabilidades en un tensor tridimensional."
   ]
  },
  {
   "cell_type": "code",
   "execution_count": null,
   "id": "6de6d196-03c6-4203-a843-44f376277660",
   "metadata": {},
   "outputs": [],
   "source": []
  }
 ],
 "metadata": {
  "kernelspec": {
   "display_name": "Python [conda env:tallerLLMs]",
   "language": "python",
   "name": "conda-env-tallerLLMs-py"
  },
  "language_info": {
   "codemirror_mode": {
    "name": "ipython",
    "version": 3
   },
   "file_extension": ".py",
   "mimetype": "text/x-python",
   "name": "python",
   "nbconvert_exporter": "python",
   "pygments_lexer": "ipython3",
   "version": "3.11.9"
  }
 },
 "nbformat": 4,
 "nbformat_minor": 5
}
