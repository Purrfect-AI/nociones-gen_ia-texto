{
 "cells": [
  {
   "cell_type": "markdown",
   "id": "6bb5f2f1-d36e-4d88-923e-c0ba07c4c3fc",
   "metadata": {},
   "source": [
    "# Implementando Michigrad"
   ]
  },
  {
   "cell_type": "code",
   "execution_count": 1,
   "id": "8a91e4f7-e0ae-40c7-8763-587e0d5418a8",
   "metadata": {},
   "outputs": [],
   "source": [
    "import torch\n",
    "import numpy as np\n",
    "from graphviz import Digraph\n"
   ]
  },
  {
   "cell_type": "code",
   "execution_count": 2,
   "id": "a7c22ad7-0834-44a0-bda9-66f2b293f863",
   "metadata": {},
   "outputs": [],
   "source": [
    "def trace(root):\n",
    "    nodes, edges = set(), set()\n",
    "    def build(v):\n",
    "        if v not in nodes:\n",
    "            nodes.add(v)\n",
    "            for child in v._prev:\n",
    "                edges.add((child, v))\n",
    "                build(child)\n",
    "    build(root)\n",
    "    return nodes, edges\n",
    "\n",
    "def show_graph(root, format='svg', rankdir='LR'):\n",
    "    \"\"\"\n",
    "    format: png | svg | ...\n",
    "    rankdir: TB (top to bottom graph) | LR (left to right)\n",
    "    \"\"\"\n",
    "    assert rankdir in ['LR', 'TB']\n",
    "    nodes, edges = trace(root)\n",
    "    dot = Digraph(format=format, graph_attr={'rankdir': rankdir}) #, node_attr={'rankdir': 'TB'})\n",
    "    \n",
    "    for n in nodes:\n",
    "        dot.node(name=str(id(n)), label = \"{%s | data %.4f | grad %.4f}\" % (n.name, n.data, n.grad), shape='record')\n",
    "        if n._op:\n",
    "            dot.node(name=str(id(n)) + n._op, label=n._op)\n",
    "            dot.edge(str(id(n)) + n._op, str(id(n)))\n",
    "    \n",
    "    for n1, n2 in edges:\n",
    "        dot.edge(str(id(n1)), str(id(n2)) + n2._op)\n",
    "    \n",
    "    return dot\n",
    "    \n",
    "class Value():\n",
    "    def __init__(self, data, _children=(), _op=\"\", name=\"\"):\n",
    "        self.data = data\n",
    "        self.name = name\n",
    "        self.grad = 0.0\n",
    "        self._backward = lambda: None\n",
    "        self._op = _op\n",
    "        self._prev = set(_children)\n",
    "\n",
    "    def __add__(self, other):\n",
    "        other = other if isinstance(other, Value) else Value(other)\n",
    "        out = Value(self.data + other.data, (self,other), \"+\")\n",
    "        \n",
    "        def _backward():\n",
    "            self.grad += out.grad\n",
    "            other.grad += out.grad\n",
    "        out._backward = _backward\n",
    "        return out\n",
    "\n",
    "    def __mul__(self, other):\n",
    "        other = other if isinstance(other, Value) else Value(other)\n",
    "        out = Value(self.data * other.data, (self,other), \"*\")\n",
    "\n",
    "        def _backward():\n",
    "            self.grad += out.grad * other.data\n",
    "            other.grad += out.grad * self.data\n",
    "        out._backward = _backward\n",
    "        return out\n",
    "\n",
    "    def __pow__(self, other):\n",
    "        assert isinstance(other, (int, float)), \"solamente soportamos potencias de int/float\"\n",
    "        out = Value(self.data ** other, _children=(self, ), _op=f\"**{other}\")\n",
    "\n",
    "        def _backward():\n",
    "            self.grad += other * (self.data ** (other - 1)) * out.grad\n",
    "        out._backward = _backward\n",
    "        return out\n",
    "\n",
    "    def __truediv__(self, other):\n",
    "        return self * other ** -1\n",
    "\n",
    "    def exp(self):\n",
    "        out = np.exp(self.data)\n",
    "        out = Value(out, _children=(self,), _op=\"exp\")\n",
    "        \n",
    "        def _backward():\n",
    "            self.grad += out.data * out.grad\n",
    "        out._backward = _backward       \n",
    "        return out\n",
    "\n",
    "    def tanh(self):\n",
    "        x = self.data\n",
    "        t = (np.e ** (2*x) - 1)/(np.e ** (2*x) + 1)\n",
    "        out = Value(t, _children=(self, ), _op=\"tanh\")\n",
    "\n",
    "        def _backward():\n",
    "            self.grad += (1 - t**2) * out.grad\n",
    "        out._backward = _backward\n",
    "        return out\n",
    "\n",
    "    def backward(self):\n",
    "        topo = []\n",
    "        visited = set()\n",
    "        def build_topo(v):\n",
    "            if v is not visited:\n",
    "                visited.add(v)\n",
    "                for child in v._prev:\n",
    "                    build_topo(child)\n",
    "                topo.append(v)\n",
    "        build_topo(self)\n",
    "\n",
    "        self.grad = 1.\n",
    "        for node in reversed(topo):\n",
    "            node._backward()\n",
    "\n",
    "    def __radd__(self, other):\n",
    "        return self + other\n",
    "\n",
    "    def __rmul__(self, other):\n",
    "        return self * other\n",
    "\n",
    "    def __neg__(self):\n",
    "        return self * -1\n",
    "\n",
    "    def __sub__(self, other):\n",
    "        return self + (-other)\n",
    "\n",
    "    def __rsub__(self, other):\n",
    "        return other + (-self)\n",
    "\n",
    "    def __repr__(self):\n",
    "        return f'Value(data={self.data}, grad={self.grad}, _op=\"{self._op}\", name={self.name})'"
   ]
  },
  {
   "cell_type": "code",
   "execution_count": 23,
   "id": "820679d9-c11e-4b34-9753-2f9f8b26f05c",
   "metadata": {},
   "outputs": [
    {
     "data": {
      "text/plain": [
       "-0.26121149393241616"
      ]
     },
     "execution_count": 23,
     "metadata": {},
     "output_type": "execute_result"
    }
   ],
   "source": [
    "W0 = Value(-.5, name='W₀')\n",
    "x0 = Value(.5, name='x₀')\n",
    "W1 = Value(-.3, name='W₁')\n",
    "x1 = Value(2, name='x₁')\n",
    "W0x0 = W0 * x0; W0x0.name = 'W0x0'\n",
    "W1x1 = W1 * x1; W1x1.name = 'W1x1'\n",
    "yhat = W0x0 + W1x1; yhat.name = 'ŷ'\n",
    "yhat = yhat.tanh(); yhat.name = 'tanh(ŷ)'\n",
    "y = Value(.8, name='y')\n",
    "L = y - yhat; L.name = 'L'\n",
    "L.backward()\n",
    "W0.grad"
   ]
  },
  {
   "cell_type": "code",
   "execution_count": 29,
   "id": "18672f13-2145-411d-8153-30c376a0ef0f",
   "metadata": {},
   "outputs": [
    {
     "data": {
      "text/plain": [
       "tensor(-0.2612)"
      ]
     },
     "execution_count": 29,
     "metadata": {},
     "output_type": "execute_result"
    }
   ],
   "source": [
    "W0 = torch.tensor(-.5); W0.requires_grad = True\n",
    "x0 = torch.tensor(.5);  x0.requires_grad = True\n",
    "W1 = torch.tensor(-.3); W1.requires_grad = True\n",
    "x1 = torch.tensor(2.);   x1.requires_grad = True\n",
    "yhat = torch.tanh(W0 * x0 + W1 * x1)\n",
    "y = torch.tensor(.8); y.requires_grad = True\n",
    "L = y - yhat\n",
    "L.backward()\n",
    "W0.grad"
   ]
  },
  {
   "cell_type": "code",
   "execution_count": 19,
   "id": "70ead684-84be-4b4d-8f91-d98da6f46886",
   "metadata": {},
   "outputs": [
    {
     "data": {
      "text/plain": [
       "'torch.FloatTensor'"
      ]
     },
     "execution_count": 19,
     "metadata": {},
     "output_type": "execute_result"
    }
   ],
   "source": [
    "torch.tensor(.8).type()"
   ]
  },
  {
   "cell_type": "code",
   "execution_count": 157,
   "id": "24e3abb9-8d8b-4214-8844-f0ff7278a746",
   "metadata": {},
   "outputs": [],
   "source": [
    "class Neuron:\n",
    "    def __init__(self, nin, bias=True):\n",
    "        self.W = [Value(np.random.uniform(-1, 1)) for _ in range(nin)]\n",
    "        self.b = Value(np.random.uniform(-1, 1))\n",
    "    \n",
    "    def __repr__(self):\n",
    "        return f'Neuron(nin={len(self.W)})'\n",
    "\n",
    "    def __call__(self, x):\n",
    "        return sum([wi * xi for wi, xi in zip(self.W, x)], self.b)\n",
    "\n",
    "    def parameters(self):\n",
    "        return self.W + [self.b]\n",
    "        \n",
    "class Layer:\n",
    "    def __init__(self, nin, nout):\n",
    "        self.neurons = [Neuron(nin) for _ in range(nout)]\n",
    "\n",
    "    def __call__(self, x):\n",
    "        act = [n(x).tanh() for n in self.neurons]\n",
    "        return act\n",
    "    \n",
    "    def __repr__(self):\n",
    "        return f\"Layer of [{', '.join(str(n) for n in self.neurons)}]\"\n",
    "\n",
    "    def parameters(self):\n",
    "        return [p for neuron in self.neurons for p in neuron.parameters()]\n",
    "    \n",
    "class MLP: #Multi layer perceptron\n",
    "    def __init__(self, nin, nouts):\n",
    "        self.nin = nin\n",
    "        self.nouts = nouts\n",
    "        sz = [nin] + nouts\n",
    "        #self.layers = [Layer(sz[i], sz[i+1]) for i in range(len(nouts))]\n",
    "        self.layers = [Layer(a, b) for a, b in zip(sz, sz[1:])]\n",
    "\n",
    "    def __call__(self, x):\n",
    "        for l in self.layers:\n",
    "            x = l(x)\n",
    "        return x\n",
    "\n",
    "    def __repr__(self):\n",
    "        return f\"MLP of [{', '.join(str(layer) for layer in self.layers)}]\"\n",
    "\n",
    "    def parameters(self):\n",
    "        return [p for layer in self.layers for p in layer.parameters()]\n",
    "    "
   ]
  },
  {
   "cell_type": "code",
   "execution_count": 70,
   "id": "cb045f0a-7dd1-4a51-9bb4-2a4971fe4f7e",
   "metadata": {},
   "outputs": [
    {
     "data": {
      "text/plain": [
       "Value(data=-0.9991496671795999, grad=0.0, _op=\"tanh\", name=)"
      ]
     },
     "execution_count": 70,
     "metadata": {},
     "output_type": "execute_result"
    }
   ],
   "source": [
    "x = [2, 3]\n",
    "n = Neuron(2)\n",
    "n(x)"
   ]
  },
  {
   "cell_type": "code",
   "execution_count": 118,
   "id": "a18e6c63-88af-4a49-81e6-22040b913618",
   "metadata": {},
   "outputs": [
    {
     "data": {
      "text/plain": [
       "MLP of [Layer of [Neuron(nin=2), Neuron(nin=2), Neuron(nin=2)], Layer of [Neuron(nin=3), Neuron(nin=3), Neuron(nin=3)], Layer of [Neuron(nin=3)]]"
      ]
     },
     "execution_count": 118,
     "metadata": {},
     "output_type": "execute_result"
    }
   ],
   "source": [
    "model = MLP(2, [3, 3, 1])\n",
    "model"
   ]
  },
  {
   "cell_type": "code",
   "execution_count": 119,
   "id": "330485fd-c5a0-451f-a938-52f3438ae2d7",
   "metadata": {},
   "outputs": [
    {
     "data": {
      "text/plain": [
       "Value(data=-0.7785767522718746, grad=0.0, _op=\"tanh\", name=)"
      ]
     },
     "execution_count": 119,
     "metadata": {},
     "output_type": "execute_result"
    }
   ],
   "source": [
    "model([1,2])[0].tanh()"
   ]
  },
  {
   "cell_type": "code",
   "execution_count": 195,
   "id": "9cd7cdab-7b65-4ad7-af4e-16da32f09391",
   "metadata": {},
   "outputs": [],
   "source": [
    "np.random.seed(40)\n",
    "xor = MLP(2, [3, 3, 1])\n",
    "xs = [[0, 0], [0, 1], [1, 0], [1, 1]]\n",
    "ys = [0, 1, 1, 0]\n"
   ]
  },
  {
   "cell_type": "code",
   "execution_count": 196,
   "id": "9bdd1c3b-4d72-4446-bade-4c6b7ee0055c",
   "metadata": {},
   "outputs": [
    {
     "data": {
      "text/plain": [
       "[Value(data=0.011082209707468916, grad=0.0, _op=\"tanh\", name=),\n",
       " Value(data=0.1193526531019616, grad=0.0, _op=\"tanh\", name=),\n",
       " Value(data=0.06230056664007959, grad=0.0, _op=\"tanh\", name=),\n",
       " Value(data=0.1644186594141305, grad=0.0, _op=\"tanh\", name=)]"
      ]
     },
     "execution_count": 196,
     "metadata": {},
     "output_type": "execute_result"
    }
   ],
   "source": [
    "yhats = [xor(x)[0] for x in xs]\n",
    "yhats"
   ]
  },
  {
   "cell_type": "code",
   "execution_count": 215,
   "id": "8d9ceb61-4a19-4019-a281-302c926e10a1",
   "metadata": {},
   "outputs": [],
   "source": [
    "loss = sum([(y - yhat)**2 for y, yhat in zip(ys,yhats )])/4\n",
    "loss.backward()\n"
   ]
  },
  {
   "cell_type": "code",
   "execution_count": 216,
   "id": "ead2eec7-05a3-4122-9290-b68299f7729a",
   "metadata": {},
   "outputs": [
    {
     "data": {
      "text/plain": [
       "[Value(data=-0.18462594383942776, grad=1540718.913950618, _op=\"\", name=),\n",
       " Value(data=-0.8892679197762798, grad=868040.2332652615, _op=\"\", name=),\n",
       " Value(data=0.5770697549735053, grad=1311926.923450415, _op=\"\", name=),\n",
       " Value(data=-0.4253896304213083, grad=1613758.4093098948, _op=\"\", name=),\n",
       " Value(data=-0.0992988260654577, grad=559144.0673464814, _op=\"\", name=),\n",
       " Value(data=-0.39217538931846896, grad=1055362.3799538866, _op=\"\", name=),\n",
       " Value(data=0.052799048594290854, grad=-131717.11289210053, _op=\"\", name=),\n",
       " Value(data=0.24762442576937338, grad=-16983.257668143662, _op=\"\", name=),\n",
       " Value(data=0.5535509154499147, grad=-57339.83687797864, _op=\"\", name=),\n",
       " Value(data=0.37248329073291475, grad=2666.348378597243, _op=\"\", name=),\n",
       " Value(data=0.9618777263756102, grad=-7328.8754457735795, _op=\"\", name=),\n",
       " Value(data=0.2016321844318263, grad=3530.3471500855435, _op=\"\", name=),\n",
       " Value(data=0.6279370398859911, grad=13247.309005815441, _op=\"\", name=),\n",
       " Value(data=0.41729030432639735, grad=249.8028114549652, _op=\"\", name=),\n",
       " Value(data=-0.9449306393549348, grad=5126.326980188341, _op=\"\", name=),\n",
       " Value(data=0.8085344344634557, grad=-2530.628910527411, _op=\"\", name=),\n",
       " Value(data=-0.10019029749274111, grad=-9824.18728032988, _op=\"\", name=),\n",
       " Value(data=-0.7621506919949905, grad=921.8351131330214, _op=\"\", name=),\n",
       " Value(data=0.6706003518942925, grad=2593.1667554884584, _op=\"\", name=),\n",
       " Value(data=-0.5955035474304318, grad=-1286.6331931927195, _op=\"\", name=),\n",
       " Value(data=-0.6515946588841628, grad=-5310.67822098184, _op=\"\", name=),\n",
       " Value(data=-0.10170584062233745, grad=-874.8545338049942, _op=\"\", name=),\n",
       " Value(data=0.33958956122722195, grad=-804.0449366250193, _op=\"\", name=),\n",
       " Value(data=0.9147982181719818, grad=260.8291786704835, _op=\"\", name=),\n",
       " Value(data=0.6666665014482669, grad=-1113.230980041388, _op=\"\", name=)]"
      ]
     },
     "execution_count": 216,
     "metadata": {},
     "output_type": "execute_result"
    }
   ],
   "source": [
    "# for p in xor.parameters():\n",
    "#     p.grad =0.\n",
    "xor.parameters()"
   ]
  },
  {
   "cell_type": "code",
   "execution_count": 188,
   "id": "32c464a9-9bbb-4e6b-abf7-42362bd8f87e",
   "metadata": {},
   "outputs": [],
   "source": [
    "for p in xor.parameters():\n",
    "    p.data -= p.grad * 0.1"
   ]
  },
  {
   "cell_type": "code",
   "execution_count": 189,
   "id": "8c1cc030-0ba4-4ce4-8e08-76d8fa957dad",
   "metadata": {},
   "outputs": [
    {
     "data": {
      "text/plain": [
       "Value(data=0.24934804788136358, grad=0.0, _op=\"*\", name=)"
      ]
     },
     "execution_count": 189,
     "metadata": {},
     "output_type": "execute_result"
    }
   ],
   "source": [
    "yhats = [xor(x)[0] for x in xs]\n",
    "loss = sum([(y - yhat)**2 for y, yhat in zip(ys,yhats )])/4\n",
    "loss"
   ]
  },
  {
   "cell_type": "code",
   "execution_count": 190,
   "id": "e2cd65c1-3015-4f51-aba3-7a29c2c50ccc",
   "metadata": {},
   "outputs": [],
   "source": [
    "np.random.seed(40)\n",
    "xor = MLP(2, [3, 3, 1])\n",
    "xs = [[0, 0], [0, 1], [1, 0], [1, 1]]\n",
    "ys = [0, 1, 1, 0]\n",
    "steps = 1000\n",
    "lr = 0.01"
   ]
  },
  {
   "cell_type": "code",
   "execution_count": 248,
   "id": "5bdeee1e-959d-4718-92f3-49151af211c0",
   "metadata": {},
   "outputs": [
    {
     "data": {
      "text/plain": [
       "Value(data=0.007677743828866295, grad=1.0, _op=\"*\", name=)"
      ]
     },
     "execution_count": 248,
     "metadata": {},
     "output_type": "execute_result"
    }
   ],
   "source": [
    "for _ in range(steps):\n",
    "    # 1. forward pass\n",
    "    yhats = [xor(x)[0] for x in xs]\n",
    "    # 2. calcular la loss funcition\n",
    "    loss = sum([(y - yhat)**2 for y, yhat in zip(ys,yhats )])/4\n",
    "    # 3. zero grad\n",
    "    for p in xor.parameters():\n",
    "        p.grad = 0.\n",
    "    # 4. backward pass\n",
    "    loss.backward()\n",
    "    # 5. update\n",
    "    for p in xor.parameters():\n",
    "        p.data -= p.grad * lr\n",
    "    #print(loss)\n",
    "loss"
   ]
  },
  {
   "cell_type": "code",
   "execution_count": 249,
   "id": "69934ab1-8774-487c-9bd4-a1145969c430",
   "metadata": {},
   "outputs": [
    {
     "data": {
      "text/plain": [
       "([Value(data=0.01958828661994304, grad=0.0, _op=\"tanh\", name=)],\n",
       " [Value(data=0.8808263916002204, grad=0.0, _op=\"tanh\", name=)],\n",
       " [Value(data=0.8808263916002204, grad=0.0, _op=\"tanh\", name=)],\n",
       " [Value(data=0.010631312726344844, grad=0.0, _op=\"tanh\", name=)])"
      ]
     },
     "execution_count": 249,
     "metadata": {},
     "output_type": "execute_result"
    }
   ],
   "source": [
    "xor([0,0]),xor([0,1]), xor([0,1]), xor([1,1])"
   ]
  },
  {
   "cell_type": "markdown",
   "id": "b01a7a8a-b247-481e-b28e-4a2354d20036",
   "metadata": {},
   "source": [
    "## Conclusiones\n",
    "* Hemos creado una pequeña librería para representar MLPs.\n",
    "* La librería es suficientemente pontente para representar un clasificador sencillo.\n",
    "* Es fácil de extender y la interfáz es en su mayor parte compatible con PyTorch.\n",
    "* Lo visto debería alcanzar para comprender totalmente el código de Michigrad y Micrograd.\n",
    "* "
   ]
  },
  {
   "cell_type": "markdown",
   "id": "e705059a-7eec-46fc-9e61-c02eb16e6b1b",
   "metadata": {},
   "source": [
    "## Ejercicios\n",
    "* Implementar el parámetro `bias` en `Neuron` y `Layer` para poder crear neuronas sin sesgo. (Fácil)\n",
    "  * Pista: mirar la implementación de Michigrad.\n",
    "* Implementar el modelo `xor` usando PyTorch. (Fácil si usaste Pytorch antes, Intermedio si no lo hiciste)\n",
    "  * Pista: PyTorch no implementa un MLP. Se puede redefirnir la clase `MLP` usando `torch.Linear` en lugar de capas de neuronas (`Layer` y `Neuron`).\n",
    "* Implementar las funciones de activación como capas. (Intermedio)\n",
    "  * Pista: Reemplazar `Layer` por `Linear`, y definir una clase por cada función de activación. La capa `Linear` se comportará como una capa de neuronas y la capa de activación aplicará la función de activación a cada salida de todas las neuronas de la capa anterior.\n",
    "* Implementar la clase Module que permita crear modelos como listas de modulos. Todos los módulos deben soportar la `__call__(self, x)` que hace la forward pass.  (Difícil)\n",
    "  * Pista: Se tendría que poder crear un modelo como una lista de modulos, así:\n",
    "   ```python\n",
    "       model = [Linear(2, 4), Linear(4, 4, bias=False), Linear(4, 3), Tanh(3)]\n",
    "   ```"
   ]
  }
 ],
 "metadata": {
  "kernelspec": {
   "display_name": "Python [conda env:tallerLLMs]",
   "language": "python",
   "name": "conda-env-tallerLLMs-py"
  },
  "language_info": {
   "codemirror_mode": {
    "name": "ipython",
    "version": 3
   },
   "file_extension": ".py",
   "mimetype": "text/x-python",
   "name": "python",
   "nbconvert_exporter": "python",
   "pygments_lexer": "ipython3",
   "version": "3.11.9"
  }
 },
 "nbformat": 4,
 "nbformat_minor": 5
}
